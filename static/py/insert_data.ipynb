{
 "metadata": {
  "language_info": {
   "codemirror_mode": {
    "name": "ipython",
    "version": 3
   },
   "file_extension": ".py",
   "mimetype": "text/x-python",
   "name": "python",
   "nbconvert_exporter": "python",
   "pygments_lexer": "ipython3",
   "version": "3.6.10-final"
  },
  "orig_nbformat": 2,
  "kernelspec": {
   "name": "Python 3.6.10 64-bit ('PythonData': conda)",
   "display_name": "Python 3.6.10 64-bit ('PythonData': conda)",
   "metadata": {
    "interpreter": {
     "hash": "0942bca1281fabf0b435d4dae18dffc66bb5293520598f67206b4087fe324d13"
    }
   }
  }
 },
 "nbformat": 4,
 "nbformat_minor": 2,
 "cells": [
  {
   "cell_type": "code",
   "execution_count": 1,
   "metadata": {},
   "outputs": [],
   "source": [
    "# Import dependencies\n",
    "import pymongo\n",
    "import json\n",
    "import pandas as pd\n",
    "import numpy as np"
   ]
  },
  {
   "cell_type": "code",
   "execution_count": 2,
   "metadata": {
    "tags": []
   },
   "outputs": [],
   "source": [
    "# Read in the file location and turn it into a pandas dataframe\n",
    "# Change the path to where you have the data stored as it's too large to upload to github\n",
    "business_file = \"../../Yelp/yelp_academic_dataset_business.json\"\n",
    "business_pd = pd.read_json(business_file, lines=True)"
   ]
  },
  {
   "cell_type": "code",
   "execution_count": 3,
   "metadata": {},
   "outputs": [
    {
     "output_type": "execute_result",
     "data": {
      "text/plain": "              business_id                      name  \\\n0  f9NumwFMBDn751xgFiRbNA  The Range At Lake Norman   \n1  Yzvjg0SayhoZgCljUJRF9Q         Carlos Santo, NMD   \n2  XNoUzKckATkOD1hP6vghZg                   Felinus   \n3  6OAZjbxqM5ol29BuHsil3w      Nevada House of Hose   \n4  51M2Kk903DFYI6gnB5I6SQ   USE MY GUY SERVICES LLC   \n\n                     address             city state postal_code   latitude  \\\n0            10913 Bailey Rd        Cornelius    NC       28031  35.462724   \n1  8880 E Via Linda, Ste 107       Scottsdale    AZ       85258  33.569404   \n2      3554 Rue Notre-Dame O         Montreal    QC     H4C 1P4  45.479984   \n3             1015 Sharp Cir  North Las Vegas    NV       89030  36.219728   \n4         4827 E Downing Cir             Mesa    AZ       85205  33.428065   \n\n    longitude  stars  review_count  is_open  \\\n0  -80.852612    3.5            36        1   \n1 -111.890264    5.0             4        1   \n2  -73.580070    5.0             5        1   \n3 -115.127725    2.5             3        0   \n4 -111.726648    4.5            26        1   \n\n                                          attributes  \\\n0  {&#39;BusinessAcceptsCreditCards&#39;: &#39;True&#39;, &#39;BikePa...   \n1  {&#39;GoodForKids&#39;: &#39;True&#39;, &#39;ByAppointmentOnly&#39;: &#39;...   \n2                                               None   \n3  {&#39;BusinessAcceptsCreditCards&#39;: &#39;True&#39;, &#39;ByAppo...   \n4  {&#39;BusinessAcceptsCreditCards&#39;: &#39;True&#39;, &#39;ByAppo...   \n\n                                          categories  \\\n0  Active Life, Gun/Rifle Ranges, Guns &amp; Ammo, Sh...   \n1  Health &amp; Medical, Fitness &amp; Instruction, Yoga,...   \n2                   Pets, Pet Services, Pet Groomers   \n3  Hardware Stores, Home Services, Building Suppl...   \n4  Home Services, Plumbing, Electricians, Handyma...   \n\n                                               hours  \n0  {&#39;Monday&#39;: &#39;10:0-18:0&#39;, &#39;Tuesday&#39;: &#39;11:0-20:0&#39;...  \n1                                               None  \n2                                               None  \n3  {&#39;Monday&#39;: &#39;7:0-16:0&#39;, &#39;Tuesday&#39;: &#39;7:0-16:0&#39;, ...  \n4  {&#39;Monday&#39;: &#39;0:0-0:0&#39;, &#39;Tuesday&#39;: &#39;9:0-16:0&#39;, &#39;...  ",
      "text/html": "<div>\n<style scoped>\n    .dataframe tbody tr th:only-of-type {\n        vertical-align: middle;\n    }\n\n    .dataframe tbody tr th {\n        vertical-align: top;\n    }\n\n    .dataframe thead th {\n        text-align: right;\n    }\n</style>\n<table border=\"1\" class=\"dataframe\">\n  <thead>\n    <tr style=\"text-align: right;\">\n      <th></th>\n      <th>business_id</th>\n      <th>name</th>\n      <th>address</th>\n      <th>city</th>\n      <th>state</th>\n      <th>postal_code</th>\n      <th>latitude</th>\n      <th>longitude</th>\n      <th>stars</th>\n      <th>review_count</th>\n      <th>is_open</th>\n      <th>attributes</th>\n      <th>categories</th>\n      <th>hours</th>\n    </tr>\n  </thead>\n  <tbody>\n    <tr>\n      <th>0</th>\n      <td>f9NumwFMBDn751xgFiRbNA</td>\n      <td>The Range At Lake Norman</td>\n      <td>10913 Bailey Rd</td>\n      <td>Cornelius</td>\n      <td>NC</td>\n      <td>28031</td>\n      <td>35.462724</td>\n      <td>-80.852612</td>\n      <td>3.5</td>\n      <td>36</td>\n      <td>1</td>\n      <td>{'BusinessAcceptsCreditCards': 'True', 'BikePa...</td>\n      <td>Active Life, Gun/Rifle Ranges, Guns &amp; Ammo, Sh...</td>\n      <td>{'Monday': '10:0-18:0', 'Tuesday': '11:0-20:0'...</td>\n    </tr>\n    <tr>\n      <th>1</th>\n      <td>Yzvjg0SayhoZgCljUJRF9Q</td>\n      <td>Carlos Santo, NMD</td>\n      <td>8880 E Via Linda, Ste 107</td>\n      <td>Scottsdale</td>\n      <td>AZ</td>\n      <td>85258</td>\n      <td>33.569404</td>\n      <td>-111.890264</td>\n      <td>5.0</td>\n      <td>4</td>\n      <td>1</td>\n      <td>{'GoodForKids': 'True', 'ByAppointmentOnly': '...</td>\n      <td>Health &amp; Medical, Fitness &amp; Instruction, Yoga,...</td>\n      <td>None</td>\n    </tr>\n    <tr>\n      <th>2</th>\n      <td>XNoUzKckATkOD1hP6vghZg</td>\n      <td>Felinus</td>\n      <td>3554 Rue Notre-Dame O</td>\n      <td>Montreal</td>\n      <td>QC</td>\n      <td>H4C 1P4</td>\n      <td>45.479984</td>\n      <td>-73.580070</td>\n      <td>5.0</td>\n      <td>5</td>\n      <td>1</td>\n      <td>None</td>\n      <td>Pets, Pet Services, Pet Groomers</td>\n      <td>None</td>\n    </tr>\n    <tr>\n      <th>3</th>\n      <td>6OAZjbxqM5ol29BuHsil3w</td>\n      <td>Nevada House of Hose</td>\n      <td>1015 Sharp Cir</td>\n      <td>North Las Vegas</td>\n      <td>NV</td>\n      <td>89030</td>\n      <td>36.219728</td>\n      <td>-115.127725</td>\n      <td>2.5</td>\n      <td>3</td>\n      <td>0</td>\n      <td>{'BusinessAcceptsCreditCards': 'True', 'ByAppo...</td>\n      <td>Hardware Stores, Home Services, Building Suppl...</td>\n      <td>{'Monday': '7:0-16:0', 'Tuesday': '7:0-16:0', ...</td>\n    </tr>\n    <tr>\n      <th>4</th>\n      <td>51M2Kk903DFYI6gnB5I6SQ</td>\n      <td>USE MY GUY SERVICES LLC</td>\n      <td>4827 E Downing Cir</td>\n      <td>Mesa</td>\n      <td>AZ</td>\n      <td>85205</td>\n      <td>33.428065</td>\n      <td>-111.726648</td>\n      <td>4.5</td>\n      <td>26</td>\n      <td>1</td>\n      <td>{'BusinessAcceptsCreditCards': 'True', 'ByAppo...</td>\n      <td>Home Services, Plumbing, Electricians, Handyma...</td>\n      <td>{'Monday': '0:0-0:0', 'Tuesday': '9:0-16:0', '...</td>\n    </tr>\n  </tbody>\n</table>\n</div>"
     },
     "metadata": {},
     "execution_count": 3
    }
   ],
   "source": [
    "business_pd.head()"
   ]
  },
  {
   "cell_type": "code",
   "execution_count": 4,
   "metadata": {},
   "outputs": [
    {
     "output_type": "execute_result",
     "data": {
      "text/plain": "                       name state postal_code   latitude   longitude  stars  \\\n0  The Range At Lake Norman    NC       28031  35.462724  -80.852612    3.5   \n1         Carlos Santo, NMD    AZ       85258  33.569404 -111.890264    5.0   \n2                   Felinus    QC     H4C 1P4  45.479984  -73.580070    5.0   \n3      Nevada House of Hose    NV       89030  36.219728 -115.127725    2.5   \n4   USE MY GUY SERVICES LLC    AZ       85205  33.428065 -111.726648    4.5   \n\n   review_count                                         categories  \n0            36  Active Life, Gun/Rifle Ranges, Guns &amp; Ammo, Sh...  \n1             4  Health &amp; Medical, Fitness &amp; Instruction, Yoga,...  \n2             5                   Pets, Pet Services, Pet Groomers  \n3             3  Hardware Stores, Home Services, Building Suppl...  \n4            26  Home Services, Plumbing, Electricians, Handyma...  ",
      "text/html": "<div>\n<style scoped>\n    .dataframe tbody tr th:only-of-type {\n        vertical-align: middle;\n    }\n\n    .dataframe tbody tr th {\n        vertical-align: top;\n    }\n\n    .dataframe thead th {\n        text-align: right;\n    }\n</style>\n<table border=\"1\" class=\"dataframe\">\n  <thead>\n    <tr style=\"text-align: right;\">\n      <th></th>\n      <th>name</th>\n      <th>state</th>\n      <th>postal_code</th>\n      <th>latitude</th>\n      <th>longitude</th>\n      <th>stars</th>\n      <th>review_count</th>\n      <th>categories</th>\n    </tr>\n  </thead>\n  <tbody>\n    <tr>\n      <th>0</th>\n      <td>The Range At Lake Norman</td>\n      <td>NC</td>\n      <td>28031</td>\n      <td>35.462724</td>\n      <td>-80.852612</td>\n      <td>3.5</td>\n      <td>36</td>\n      <td>Active Life, Gun/Rifle Ranges, Guns &amp; Ammo, Sh...</td>\n    </tr>\n    <tr>\n      <th>1</th>\n      <td>Carlos Santo, NMD</td>\n      <td>AZ</td>\n      <td>85258</td>\n      <td>33.569404</td>\n      <td>-111.890264</td>\n      <td>5.0</td>\n      <td>4</td>\n      <td>Health &amp; Medical, Fitness &amp; Instruction, Yoga,...</td>\n    </tr>\n    <tr>\n      <th>2</th>\n      <td>Felinus</td>\n      <td>QC</td>\n      <td>H4C 1P4</td>\n      <td>45.479984</td>\n      <td>-73.580070</td>\n      <td>5.0</td>\n      <td>5</td>\n      <td>Pets, Pet Services, Pet Groomers</td>\n    </tr>\n    <tr>\n      <th>3</th>\n      <td>Nevada House of Hose</td>\n      <td>NV</td>\n      <td>89030</td>\n      <td>36.219728</td>\n      <td>-115.127725</td>\n      <td>2.5</td>\n      <td>3</td>\n      <td>Hardware Stores, Home Services, Building Suppl...</td>\n    </tr>\n    <tr>\n      <th>4</th>\n      <td>USE MY GUY SERVICES LLC</td>\n      <td>AZ</td>\n      <td>85205</td>\n      <td>33.428065</td>\n      <td>-111.726648</td>\n      <td>4.5</td>\n      <td>26</td>\n      <td>Home Services, Plumbing, Electricians, Handyma...</td>\n    </tr>\n  </tbody>\n</table>\n</div>"
     },
     "metadata": {},
     "execution_count": 4
    }
   ],
   "source": [
    "# Create a new dataframe by filtering the selected column indices\n",
    "business_data = business_pd.filter(items = [\"name\", \"state\", \"postal_code\", \"latitude\", \"longitude\", \"stars\", \"review_count\", \"categories\"])\n",
    "\n",
    "business_data.head()"
   ]
  },
  {
   "cell_type": "code",
   "execution_count": 5,
   "metadata": {},
   "outputs": [
    {
     "output_type": "execute_result",
     "data": {
      "text/plain": "array([&#39;NC&#39;, &#39;AZ&#39;, &#39;QC&#39;, &#39;NV&#39;, &#39;IL&#39;, &#39;ON&#39;, &#39;AB&#39;, &#39;PA&#39;, &#39;WI&#39;, &#39;SC&#39;, &#39;OH&#39;,\n       &#39;CA&#39;, &#39;TX&#39;, &#39;NY&#39;, &#39;CO&#39;, &#39;XWY&#39;, &#39;GA&#39;, &#39;BC&#39;, &#39;YT&#39;, &#39;HPL&#39;, &#39;AL&#39;, &#39;UT&#39;,\n       &#39;VT&#39;, &#39;WA&#39;, &#39;NE&#39;, &#39;DOW&#39;, &#39;MI&#39;, &#39;FL&#39;, &#39;AR&#39;, &#39;HI&#39;, &#39;MB&#39;, &#39;OR&#39;, &#39;AK&#39;,\n       &#39;VA&#39;, &#39;CT&#39;, &#39;MO&#39;, &#39;DUR&#39;], dtype=object)"
     },
     "metadata": {},
     "execution_count": 5
    }
   ],
   "source": [
    "# Find all the unique states in the dataframe\n",
    "business_data[\"state\"].unique()"
   ]
  },
  {
   "cell_type": "code",
   "execution_count": 6,
   "metadata": {},
   "outputs": [
    {
     "output_type": "execute_result",
     "data": {
      "text/plain": "array([&#39;NC&#39;, &#39;AZ&#39;, &#39;NV&#39;, &#39;IL&#39;, &#39;PA&#39;, &#39;WI&#39;, &#39;SC&#39;, &#39;OH&#39;, &#39;CA&#39;, &#39;TX&#39;, &#39;NY&#39;,\n       &#39;CO&#39;, &#39;GA&#39;, &#39;AL&#39;, &#39;UT&#39;, &#39;VT&#39;, &#39;WA&#39;, &#39;NE&#39;, &#39;MI&#39;, &#39;FL&#39;, &#39;AR&#39;, &#39;HI&#39;,\n       &#39;OR&#39;, &#39;AK&#39;, &#39;VA&#39;, &#39;CT&#39;, &#39;MO&#39;], dtype=object)"
     },
     "metadata": {},
     "execution_count": 6
    }
   ],
   "source": [
    "# Create an array that will hold the states to remove, any state not in the US will be removed\n",
    "remove = [\"QC\", \"ON\", \"AB\", \"XWY\", \"BC\", \"YT\", \"HPL\", \"DOW\", \"MB\", \"DUR\"]\n",
    "\n",
    "# Run a loop to remove all the states outside the US\n",
    "for state in remove:\n",
    "    business_data.drop(business_data[business_data[\"state\"] == f'{state}'].index, inplace=True)\n",
    "\n",
    "# Check to see if the states were removed\n",
    "business_data[\"state\"].unique()"
   ]
  },
  {
   "cell_type": "code",
   "execution_count": 7,
   "metadata": {},
   "outputs": [
    {
     "output_type": "execute_result",
     "data": {
      "text/plain": "name            153843\nstate           153843\npostal_code     153843\nlatitude        153843\nlongitude       153843\nstars           153843\nreview_count    153843\ncategories      153450\ndtype: int64"
     },
     "metadata": {},
     "execution_count": 7
    }
   ],
   "source": [
    "# Check to see if all columns have the same amount of data\n",
    "business_data.count()"
   ]
  },
  {
   "cell_type": "code",
   "execution_count": 8,
   "metadata": {},
   "outputs": [
    {
     "output_type": "execute_result",
     "data": {
      "text/plain": "name            153450\nstate           153450\npostal_code     153450\nlatitude        153450\nlongitude       153450\nstars           153450\nreview_count    153450\ncategories      153450\ndtype: int64"
     },
     "metadata": {},
     "execution_count": 8
    }
   ],
   "source": [
    "# Replace all empty cells with NaN in the categories column\n",
    "business_data[\"categories\"].replace(\"\", np.nan, inplace=True)\n",
    "\n",
    "# Drop all NaN from the category column\n",
    "business_data.dropna(subset = [\"categories\"], inplace=True)\n",
    "\n",
    "# Now we only have data with values in every column\n",
    "business_data.count()"
   ]
  },
  {
   "cell_type": "code",
   "execution_count": 9,
   "metadata": {},
   "outputs": [
    {
     "output_type": "execute_result",
     "data": {
      "text/plain": "                               name state postal_code   latitude   longitude  \\\n8               The Empanadas House    IL       61820  40.110446  -88.233073   \n20                 Middle East Deli    NC       28205  35.194894  -80.767442   \n33                Wetzel&#39;s Pretzels    AZ       85032  33.602822 -111.983533   \n36                        Carl&#39;s Jr    NV       89147  36.099738 -115.301568   \n41  Pho Lee&#39;s Vietnamese Restaurant    OH       44114  41.512155  -81.663332   \n\n    stars  review_count                                         categories  \n8     4.5             5  Ethnic Food, Food Trucks, Specialty Food, Impo...  \n20    3.0             5         Food, Restaurants, Grocery, Middle Eastern  \n33    4.0            10   Food, Pretzels, Bakeries, Fast Food, Restaurants  \n36    2.5            15                    Mexican, Restaurants, Fast Food  \n41    4.5            23                      Restaurants, Vietnamese, Soup  ",
      "text/html": "<div>\n<style scoped>\n    .dataframe tbody tr th:only-of-type {\n        vertical-align: middle;\n    }\n\n    .dataframe tbody tr th {\n        vertical-align: top;\n    }\n\n    .dataframe thead th {\n        text-align: right;\n    }\n</style>\n<table border=\"1\" class=\"dataframe\">\n  <thead>\n    <tr style=\"text-align: right;\">\n      <th></th>\n      <th>name</th>\n      <th>state</th>\n      <th>postal_code</th>\n      <th>latitude</th>\n      <th>longitude</th>\n      <th>stars</th>\n      <th>review_count</th>\n      <th>categories</th>\n    </tr>\n  </thead>\n  <tbody>\n    <tr>\n      <th>8</th>\n      <td>The Empanadas House</td>\n      <td>IL</td>\n      <td>61820</td>\n      <td>40.110446</td>\n      <td>-88.233073</td>\n      <td>4.5</td>\n      <td>5</td>\n      <td>Ethnic Food, Food Trucks, Specialty Food, Impo...</td>\n    </tr>\n    <tr>\n      <th>20</th>\n      <td>Middle East Deli</td>\n      <td>NC</td>\n      <td>28205</td>\n      <td>35.194894</td>\n      <td>-80.767442</td>\n      <td>3.0</td>\n      <td>5</td>\n      <td>Food, Restaurants, Grocery, Middle Eastern</td>\n    </tr>\n    <tr>\n      <th>33</th>\n      <td>Wetzel's Pretzels</td>\n      <td>AZ</td>\n      <td>85032</td>\n      <td>33.602822</td>\n      <td>-111.983533</td>\n      <td>4.0</td>\n      <td>10</td>\n      <td>Food, Pretzels, Bakeries, Fast Food, Restaurants</td>\n    </tr>\n    <tr>\n      <th>36</th>\n      <td>Carl's Jr</td>\n      <td>NV</td>\n      <td>89147</td>\n      <td>36.099738</td>\n      <td>-115.301568</td>\n      <td>2.5</td>\n      <td>15</td>\n      <td>Mexican, Restaurants, Fast Food</td>\n    </tr>\n    <tr>\n      <th>41</th>\n      <td>Pho Lee's Vietnamese Restaurant</td>\n      <td>OH</td>\n      <td>44114</td>\n      <td>41.512155</td>\n      <td>-81.663332</td>\n      <td>4.5</td>\n      <td>23</td>\n      <td>Restaurants, Vietnamese, Soup</td>\n    </tr>\n  </tbody>\n</table>\n</div>"
     },
     "metadata": {},
     "execution_count": 9
    }
   ],
   "source": [
    "# Filter the categories row for businesses that are Restaurants\n",
    "cleaned = business_data[business_data['categories'].str.contains(\"Restaurant\")]\n",
    "\n",
    "cleaned.head()"
   ]
  },
  {
   "cell_type": "code",
   "execution_count": 10,
   "metadata": {},
   "outputs": [
    {
     "output_type": "execute_result",
     "data": {
      "text/plain": "name            38260\nstate           38260\npostal_code     38260\nlatitude        38260\nlongitude       38260\nstars           38260\nreview_count    38260\ncategories      38260\ndtype: int64"
     },
     "metadata": {},
     "execution_count": 10
    }
   ],
   "source": [
    "# Reset the index so we can iterate through the data and load it into the database\n",
    "cleaned = cleaned.reset_index(drop=True)\n",
    "\n",
    "cleaned.count()"
   ]
  },
  {
   "cell_type": "code",
   "execution_count": 11,
   "metadata": {},
   "outputs": [],
   "source": [
    "# Save the file to a csv so we can upload it to the github repo, remove the index when saving\n",
    "cleaned.to_csv(\"../data/cleaned_data.csv\", index=False)"
   ]
  },
  {
   "cell_type": "code",
   "execution_count": 11,
   "metadata": {},
   "outputs": [],
   "source": [
    "# Setup connection to mongodb\n",
    "conn = \"mongodb://localhost:27017\"\n",
    "client = pymongo.MongoClient(conn)\n",
    "\n",
    "# Select database and collection to use\n",
    "db = client.restaurants\n",
    "data = db.data\n",
    "\n",
    "# Run a loop through the length of the dataframe\n",
    "# Create table and append values for each business\n",
    "for x in range(len(cleaned)):\n",
    "    data.insert_one(\n",
    "        {\n",
    "            \"name\": cleaned[\"name\"][x],\n",
    "            \"state\": cleaned[\"state\"][x],\n",
    "            \"postal_code\": cleaned[\"postal_code\"][x],\n",
    "            \"latitude\": cleaned[\"latitude\"][x],\n",
    "            \"longitude\": cleaned[\"longitude\"][x],\n",
    "            \"stars\": cleaned[\"stars\"][x],\n",
    "            \"review_count\": int(cleaned[\"review_count\"][x]),\n",
    "            \"categories\": cleaned[\"categories\"][x]\n",
    "        }\n",
    "    )"
   ]
  }
 ]
}